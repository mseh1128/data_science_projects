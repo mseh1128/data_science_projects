{
 "cells": [
  {
   "cell_type": "code",
   "execution_count": 51,
   "metadata": {},
   "outputs": [],
   "source": [
    "import pandas as pd\n",
    "import matplotlib.pyplot as plt\n",
    "%matplotlib inline"
   ]
  },
  {
   "cell_type": "code",
   "execution_count": 52,
   "metadata": {},
   "outputs": [],
   "source": [
    "df = pd.read_excel(\"occupation.XLSX\",sheet_name=\"Table 1.7\", header=1, skiprows=[2],skip_footer=4,na_values=[\"Summary\",\"—\"])"
   ]
  },
  {
   "cell_type": "code",
   "execution_count": 53,
   "metadata": {},
   "outputs": [],
   "source": [
    "df.drop(columns=['Unnamed: 1', 'Employment Change, 2016-26', 'Unnamed: 6','Percent self employed, 2016',\n",
    "                 'Work experience in a related occupation','Typical on-the-job training needed to attain competency in the occupation'],inplace=True)"
   ]
  },
  {
   "cell_type": "code",
   "execution_count": 54,
   "metadata": {},
   "outputs": [],
   "source": [
    "df.rename(columns={'2016 National Employment Matrix title and code':'Jobs','Occupation\\ntype':'Occupation_Type','Employment':'Employment_2016','Unnamed: 4':'Employment_2026','Occupational openings, 2016-26 annual average':'Job_Openings','Median annual wage, 2017(1)':'2017_Median_Wage','Typical education needed for entry':'Education_Level'},inplace=True)"
   ]
  },
  {
   "cell_type": "code",
   "execution_count": 55,
   "metadata": {},
   "outputs": [],
   "source": [
    "df = df.dropna(subset = ['Education_Level'])"
   ]
  },
  {
   "cell_type": "code",
   "execution_count": 56,
   "metadata": {},
   "outputs": [
    {
     "data": {
      "text/plain": [
       "High school diploma or equivalent    340\n",
       "Bachelor's degree                    174\n",
       "No formal educational credential     104\n",
       "Doctoral or professional degree       63\n",
       "Associate's degree                    48\n",
       "Postsecondary nondegree award         46\n",
       "Master's degree                       38\n",
       "Some college, no degree                5\n",
       "Name: Education_Level, dtype: int64"
      ]
     },
     "execution_count": 56,
     "metadata": {},
     "output_type": "execute_result"
    }
   ],
   "source": [
    "df.Education_Level.value_counts()"
   ]
  },
  {
   "cell_type": "code",
   "execution_count": 57,
   "metadata": {},
   "outputs": [],
   "source": [
    "degrees_employment_2016 = df.groupby('Education_Level')['Employment_2016'].sum()"
   ]
  },
  {
   "cell_type": "code",
   "execution_count": 58,
   "metadata": {},
   "outputs": [],
   "source": [
    "degrees_employment_2026 = df.groupby('Education_Level')['Employment_2026'].sum()"
   ]
  },
  {
   "cell_type": "code",
   "execution_count": 59,
   "metadata": {},
   "outputs": [
    {
     "data": {
      "text/plain": [
       "<matplotlib.axes._subplots.AxesSubplot at 0x1e364adb5c0>"
      ]
     },
     "execution_count": 59,
     "metadata": {},
     "output_type": "execute_result"
    },
    {
     "data": {
      "image/png": "[encoded data removed]",
      "text/plain": [
       "<matplotlib.figure.Figure at 0x1e364b0a400>"
      ]
     },
     "metadata": {},
     "output_type": "display_data"
    }
   ],
   "source": [
    "pd.concat([degrees_employment_2016, degrees_employment_2026],axis=1).plot(kind='bar',sharex=False)"
   ]
  },
  {
   "cell_type": "code",
   "execution_count": 60,
   "metadata": {},
   "outputs": [],
   "source": [
    "df = pd.concat([degrees_employment_2016, degrees_employment_2026],axis=1)"
   ]
  },
  {
   "cell_type": "code",
   "execution_count": 61,
   "metadata": {},
   "outputs": [
    {
     "data": {
      "text/html": [
       "<div>\n",
       "<style scoped>\n",
       "    .dataframe tbody tr th:only-of-type {\n",
       "        vertical-align: middle;\n",
       "    }\n",
       "\n",
       "    .dataframe tbody tr th {\n",
       "        vertical-align: top;\n",
       "    }\n",
       "\n",
       "    .dataframe thead th {\n",
       "        text-align: right;\n",
       "    }\n",
       "</style>\n",
       "<table border=\"1\" class=\"dataframe\">\n",
       "  <thead>\n",
       "    <tr style=\"text-align: right;\">\n",
       "      <th></th>\n",
       "      <th>Employment_2016</th>\n",
       "      <th>Employment_2026</th>\n",
       "    </tr>\n",
       "    <tr>\n",
       "      <th>Education_Level</th>\n",
       "      <th></th>\n",
       "      <th></th>\n",
       "    </tr>\n",
       "  </thead>\n",
       "  <tbody>\n",
       "    <tr>\n",
       "      <th>Associate's degree</th>\n",
       "      <td>3617.8</td>\n",
       "      <td>4014.5</td>\n",
       "    </tr>\n",
       "    <tr>\n",
       "      <th>Bachelor's degree</th>\n",
       "      <td>33371.9</td>\n",
       "      <td>36747.9</td>\n",
       "    </tr>\n",
       "    <tr>\n",
       "      <th>Doctoral or professional degree</th>\n",
       "      <td>4230.9</td>\n",
       "      <td>4786.8</td>\n",
       "    </tr>\n",
       "    <tr>\n",
       "      <th>High school diploma or equivalent</th>\n",
       "      <td>61504.3</td>\n",
       "      <td>64644.2</td>\n",
       "    </tr>\n",
       "    <tr>\n",
       "      <th>Master's degree</th>\n",
       "      <td>2670.6</td>\n",
       "      <td>3117.7</td>\n",
       "    </tr>\n",
       "    <tr>\n",
       "      <th>No formal educational credential</th>\n",
       "      <td>37199.4</td>\n",
       "      <td>39572.4</td>\n",
       "    </tr>\n",
       "    <tr>\n",
       "      <th>Postsecondary nondegree award</th>\n",
       "      <td>9582.8</td>\n",
       "      <td>10647.0</td>\n",
       "    </tr>\n",
       "    <tr>\n",
       "      <th>Some college, no degree</th>\n",
       "      <td>3858.5</td>\n",
       "      <td>4020.5</td>\n",
       "    </tr>\n",
       "  </tbody>\n",
       "</table>\n",
       "</div>"
      ],
      "text/plain": [
       "                                   Employment_2016  Employment_2026\n",
       "Education_Level                                                    \n",
       "Associate's degree                          3617.8           4014.5\n",
       "Bachelor's degree                          33371.9          36747.9\n",
       "Doctoral or professional degree             4230.9           4786.8\n",
       "High school diploma or equivalent          61504.3          64644.2\n",
       "Master's degree                             2670.6           3117.7\n",
       "No formal educational credential           37199.4          39572.4\n",
       "Postsecondary nondegree award               9582.8          10647.0\n",
       "Some college, no degree                     3858.5           4020.5"
      ]
     },
     "execution_count": 61,
     "metadata": {},
     "output_type": "execute_result"
    }
   ],
   "source": [
    "df"
   ]
  },
  {
   "cell_type": "code",
   "execution_count": 62,
   "metadata": {},
   "outputs": [
    {
     "ename": "NameError",
     "evalue": "name 'legend' is not defined",
     "output_type": "error",
     "traceback": [
      "\u001b[1;31m---------------------------------------------------------------------------\u001b[0m",
      "\u001b[1;31mNameError\u001b[0m                                 Traceback (most recent call last)",
      "\u001b[1;32m<ipython-input-62-d935a07611f7>\u001b[0m in \u001b[0;36m<module>\u001b[1;34m()\u001b[0m\n\u001b[0;32m      1\u001b[0m \u001b[0mfontP\u001b[0m \u001b[1;33m=\u001b[0m \u001b[0mFontProperties\u001b[0m\u001b[1;33m(\u001b[0m\u001b[1;33m)\u001b[0m\u001b[1;33m\u001b[0m\u001b[0m\n\u001b[0;32m      2\u001b[0m \u001b[0mfontP\u001b[0m\u001b[1;33m.\u001b[0m\u001b[0mset_size\u001b[0m\u001b[1;33m(\u001b[0m\u001b[1;34m'small'\u001b[0m\u001b[1;33m)\u001b[0m\u001b[1;33m\u001b[0m\u001b[0m\n\u001b[1;32m----> 3\u001b[1;33m \u001b[0mlegend\u001b[0m\u001b[1;33m(\u001b[0m\u001b[1;33m[\u001b[0m\u001b[0mplot1\u001b[0m\u001b[1;33m]\u001b[0m\u001b[1;33m,\u001b[0m \u001b[1;34m\"title\"\u001b[0m\u001b[1;33m,\u001b[0m \u001b[0mprop\u001b[0m\u001b[1;33m=\u001b[0m\u001b[0mfontP\u001b[0m\u001b[1;33m)\u001b[0m\u001b[1;33m\u001b[0m\u001b[0m\n\u001b[0m",
      "\u001b[1;31mNameError\u001b[0m: name 'legend' is not defined"
     ]
    }
   ],
   "source": [
    "fontP = FontProperties()\n",
    "fontP.set_size('small')\n",
    "legend([plot1], \"title\", prop=fontP)"
   ]
  },
  {
   "cell_type": "code",
   "execution_count": 63,
   "metadata": {},
   "outputs": [
    {
     "data": {
      "text/plain": [
       "<matplotlib.legend.Legend at 0x1e364b0a160>"
      ]
     },
     "execution_count": 63,
     "metadata": {},
     "output_type": "execute_result"
    },
    {
     "data": {
      "image/png": "[encoded data removed]",
      "text/plain": [
       "<matplotlib.figure.Figure at 0x1e364b0a0b8>"
      ]
     },
     "metadata": {},
     "output_type": "display_data"
    }
   ],
   "source": [
    "df.transpose().plot.bar(stacked=True, sort_columns=True, rot=0).legend(loc=\"center left\", bbox_to_anchor=(1,0.5))"
   ]
  },
  {
   "cell_type": "markdown",
   "metadata": {},
   "source": []
  },
  {
   "cell_type": "code",
   "execution_count": 64,
   "metadata": {},
   "outputs": [
    {
     "data": {
      "text/plain": [
       "<matplotlib.legend.Legend at 0x1e36378f320>"
      ]
     },
     "execution_count": 64,
     "metadata": {},
     "output_type": "execute_result"
    },
    {
     "data": {
      "image/png": "[encoded data removed]",
      "text/plain": [
       "<matplotlib.figure.Figure at 0x1e363822048>"
      ]
     },
     "metadata": {},
     "output_type": "display_data"
    }
   ],
   "source": [
    "df.sort_values(by='Employment_2016', ascending=False).transpose().plot.bar(stacked=True, sort_columns=True, rot=0).legend(loc=\"center left\", bbox_to_anchor=(1,0.5))"
   ]
  },
  {
   "cell_type": "code",
   "execution_count": 65,
   "metadata": {},
   "outputs": [
    {
     "data": {
      "text/html": [
       "<div>\n",
       "<style scoped>\n",
       "    .dataframe tbody tr th:only-of-type {\n",
       "        vertical-align: middle;\n",
       "    }\n",
       "\n",
       "    .dataframe tbody tr th {\n",
       "        vertical-align: top;\n",
       "    }\n",
       "\n",
       "    .dataframe thead th {\n",
       "        text-align: right;\n",
       "    }\n",
       "</style>\n",
       "<table border=\"1\" class=\"dataframe\">\n",
       "  <thead>\n",
       "    <tr style=\"text-align: right;\">\n",
       "      <th></th>\n",
       "      <th>Employment_2016</th>\n",
       "      <th>Employment_2026</th>\n",
       "    </tr>\n",
       "    <tr>\n",
       "      <th>Education_Level</th>\n",
       "      <th></th>\n",
       "      <th></th>\n",
       "    </tr>\n",
       "  </thead>\n",
       "  <tbody>\n",
       "    <tr>\n",
       "      <th>Associate's degree</th>\n",
       "      <td>3617.8</td>\n",
       "      <td>4014.5</td>\n",
       "    </tr>\n",
       "    <tr>\n",
       "      <th>Bachelor's degree</th>\n",
       "      <td>33371.9</td>\n",
       "      <td>36747.9</td>\n",
       "    </tr>\n",
       "    <tr>\n",
       "      <th>Doctoral or professional degree</th>\n",
       "      <td>4230.9</td>\n",
       "      <td>4786.8</td>\n",
       "    </tr>\n",
       "    <tr>\n",
       "      <th>High school diploma or equivalent</th>\n",
       "      <td>61504.3</td>\n",
       "      <td>64644.2</td>\n",
       "    </tr>\n",
       "    <tr>\n",
       "      <th>Master's degree</th>\n",
       "      <td>2670.6</td>\n",
       "      <td>3117.7</td>\n",
       "    </tr>\n",
       "    <tr>\n",
       "      <th>No formal educational credential</th>\n",
       "      <td>37199.4</td>\n",
       "      <td>39572.4</td>\n",
       "    </tr>\n",
       "    <tr>\n",
       "      <th>Postsecondary nondegree award</th>\n",
       "      <td>9582.8</td>\n",
       "      <td>10647.0</td>\n",
       "    </tr>\n",
       "    <tr>\n",
       "      <th>Some college, no degree</th>\n",
       "      <td>3858.5</td>\n",
       "      <td>4020.5</td>\n",
       "    </tr>\n",
       "  </tbody>\n",
       "</table>\n",
       "</div>"
      ],
      "text/plain": [
       "                                   Employment_2016  Employment_2026\n",
       "Education_Level                                                    \n",
       "Associate's degree                          3617.8           4014.5\n",
       "Bachelor's degree                          33371.9          36747.9\n",
       "Doctoral or professional degree             4230.9           4786.8\n",
       "High school diploma or equivalent          61504.3          64644.2\n",
       "Master's degree                             2670.6           3117.7\n",
       "No formal educational credential           37199.4          39572.4\n",
       "Postsecondary nondegree award               9582.8          10647.0\n",
       "Some college, no degree                     3858.5           4020.5"
      ]
     },
     "execution_count": 65,
     "metadata": {},
     "output_type": "execute_result"
    }
   ],
   "source": [
    "df\n"
   ]
  },
  {
   "cell_type": "code",
   "execution_count": null,
   "metadata": {},
   "outputs": [],
   "source": []
  },
  {
   "cell_type": "code",
   "execution_count": null,
   "metadata": {},
   "outputs": [],
   "source": []
  }
 ],
 "metadata": {
  "kernelspec": {
   "display_name": "Python 3",
   "language": "python",
   "name": "python3"
  },
  "language_info": {
   "codemirror_mode": {
    "name": "ipython",
    "version": 3
   },
   "file_extension": ".py",
   "mimetype": "text/x-python",
   "name": "python",
   "nbconvert_exporter": "python",
   "pygments_lexer": "ipython3",
   "version": "3.6.4"
  }
 },
 "nbformat": 4,
 "nbformat_minor": 2
}
